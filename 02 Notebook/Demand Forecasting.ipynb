{
 "cells": [
  {
   "cell_type": "markdown",
   "metadata": {
    "application/vnd.databricks.v1+cell": {
     "cellMetadata": {},
     "inputWidgets": {},
     "nuid": "de005ed9-64d8-491f-961e-007d260a0cc3",
     "showTitle": false,
     "title": ""
    },
    "id": "N5YFQSexdgRE"
   },
   "source": [
    "# Forecasting Future Oil Demand with Ali: A Journey Through Data and ARIMA\n",
    "\n",
    "# Introduction: Meet Ali, the Demand Forecaster\n",
    "\n",
    "![picture](https://i.pinimg.com/736x/d8/13/fe/d813feae59ba45d0e51620612a3f0b53.jpg)\n",
    "\n",
    "Ali, our data-savvy protagonist, works at ADNOC, where his job is to ensure that the company is always one step ahead in predicting oil demand. With a solid understanding of both business and technology, Ali uses the ARIMA model to forecast future oil demand, helping ADNOC make informed decisions. Join Ali as he walks us through his process, from preparing the data to making accurate predictions.\n",
    "\n",
    "# 1. Setting the Scene: Importing Essential Libraries\n",
    "Ali knows that the first step to any successful analysis is having the right tools. He starts by importing the necessary Python libraries:"
   ]
  },
  {
   "cell_type": "code",
   "execution_count": 0,
   "metadata": {
    "application/vnd.databricks.v1+cell": {
     "cellMetadata": {
      "byteLimit": 2048000,
      "rowLimit": 10000
     },
     "inputWidgets": {},
     "nuid": "bcb1a02c-fce2-4d1d-bf14-3c6692df9567",
     "showTitle": false,
     "title": ""
    },
    "id": "Ojy69Q21i1Mz"
   },
   "outputs": [],
   "source": [
    "import pandas as pd  # Pandas is used for data manipulation and analysis, particularly for handling time series data in DataFrames.\n",
    "\n",
    "import numpy as np  # NumPy provides support for numerical operations, including generating random numbers for simulating economic shocks and noise.\n",
    "\n",
    "import matplotlib.pyplot as plt  # Matplotlib is used to create visualizations, such as plotting historical demand data and forecasted results.\n",
    "\n",
    "from statsmodels.tsa.arima.model import ARIMA  # ARIMA (AutoRegressive Integrated Moving Average) is used for time series forecasting, helping to predict future values based on past trends.\n",
    "\n",
    "import warnings\n",
    "warnings.filterwarnings(\"ignore\")  # This line is used to suppress warning messages, keeping the output clean and focused on the results."
   ]
  },
  {
   "cell_type": "markdown",
   "metadata": {
    "application/vnd.databricks.v1+cell": {
     "cellMetadata": {},
     "inputWidgets": {},
     "nuid": "f73e1fe8-1fc3-4b59-9475-4ae4d71e7979",
     "showTitle": false,
     "title": ""
    },
    "id": "ST8CJ8gtjBFK"
   },
   "source": [
    "**Pandas:**  Ali's go-to for managing and analyzing data.\n",
    "\n",
    "**NumPy:**  Helps Ali handle numerical operations, including generating random factors like noise and economic shocks.\n",
    "\n",
    "**Matplotlib:**  Ali uses this to create visualizations, turning raw data into insightful graphs.\n",
    "\n",
    "**ARIMA:**  The core forecasting model Ali uses to predict future demand based on historical data.\n",
    "\n",
    "**Warnings:**  Ali turns off warnings to keep his workspace neat and focused."
   ]
  },
  {
   "cell_type": "markdown",
   "metadata": {
    "application/vnd.databricks.v1+cell": {
     "cellMetadata": {},
     "inputWidgets": {},
     "nuid": "246e73bd-9d3c-473a-8ed7-ea8cc32a820d",
     "showTitle": false,
     "title": ""
    },
    "id": "hovWUMaTje2V"
   },
   "source": [
    "# 2. Understanding the Historical Data: The Backbone of Forecasting\n",
    "\n",
    "\n",
    "![picture](https://i.pinimg.com/736x/a2/51/53/a2515368dbfee0f0fe6e7495d5c3f3e9.jpg)\n",
    "\n",
    "\n",
    "\n",
    "Ali knows that good forecasting starts with understanding past data. Fortunately, he has access to a CSV file containing the last 3 years of monthly oil demand data. This data will serve as the foundation for his ARIMA model.\n",
    "\n",
    "# 2.1. Reading the Data\n",
    "\n",
    "Ali begins by loading the historical demand data from the CSV file:\n",
    "\n"
   ]
  },
  {
   "cell_type": "code",
   "execution_count": 0,
   "metadata": {
    "application/vnd.databricks.v1+cell": {
     "cellMetadata": {
      "byteLimit": 2048000,
      "rowLimit": 10000
     },
     "inputWidgets": {},
     "nuid": "43a1ce6f-f356-4d36-b8b3-7a3b718b279c",
     "showTitle": false,
     "title": ""
    },
    "colab": {
     "base_uri": "https://localhost:8080/",
     "height": 256
    },
    "id": "ej-JiVpDjleg",
    "outputId": "655b9ff1-9576-4edc-9dff-efaf4755221c"
   },
   "outputs": [],
   "source": [
    "df = pd.read_csv(r'/Workspace/Users/kpmgdaai@outlook.com/Demand Forecast/01 Data/demand_forecast_dataset.csv', parse_dates=['Date'], index_col='Date') # create the data frame using pandas library\n",
    "df.head() # show the first 5 rows from the data frame"
   ]
  },
  {
   "cell_type": "markdown",
   "metadata": {
    "application/vnd.databricks.v1+cell": {
     "cellMetadata": {},
     "inputWidgets": {},
     "nuid": "4e28c54d-1472-4148-b20f-11c54567fce6",
     "showTitle": false,
     "title": ""
    },
    "id": "czay4ZqBjnvT"
   },
   "source": [
    "This line of code reads the data into a DataFrame, with the 'Date' column set as the index. Ali now has a well-organized dataset that spans the last 36 months.\n",
    "\n",
    "# 2.2. Visualizing the Historical Data\n",
    "\n",
    "Before jumping into forecasting, Ali decides to visualize the historical data to understand its trends and patterns:"
   ]
  },
  {
   "cell_type": "code",
   "execution_count": 0,
   "metadata": {
    "application/vnd.databricks.v1+cell": {
     "cellMetadata": {
      "byteLimit": 2048000,
      "rowLimit": 10000
     },
     "inputWidgets": {},
     "nuid": "2d40c5b2-4e33-4362-a137-bb2ef68a4706",
     "showTitle": false,
     "title": ""
    },
    "colab": {
     "base_uri": "https://localhost:8080/",
     "height": 564
    },
    "id": "IkVf6WXcjsYE",
    "outputId": "61acd87c-c384-45fc-d7d3-4ab5d2529659"
   },
   "outputs": [],
   "source": [
    "# Create a new figure with a specified size for the plot\n",
    "plt.figure(figsize=(12, 6))\n",
    "\n",
    "# Plot the historical demand data with date on the x-axis and demand on the y-axis\n",
    "plt.plot(df.index, df['Demand (in barrels)'], marker='o', label='Historical Demand')\n",
    "\n",
    "# Set the title of the plot\n",
    "plt.title('Historical Oil Demand')\n",
    "\n",
    "# Label the x-axis as 'Date'\n",
    "plt.xlabel('Month')\n",
    "\n",
    "# Label the y-axis as 'Demand (in barrels)'\n",
    "plt.ylabel('Demand (in barrels)')\n",
    "\n",
    "# Add a legend to distinguish the historical data line\n",
    "plt.legend()\n",
    "# show the graph\n",
    "plt.show()"
   ]
  },
  {
   "cell_type": "markdown",
   "metadata": {
    "application/vnd.databricks.v1+cell": {
     "cellMetadata": {},
     "inputWidgets": {},
     "nuid": "bfa9bb4d-5a99-4a59-9846-e60333d3a1b9",
     "showTitle": false,
     "title": ""
    },
    "id": "oFckOGFhmEL6"
   },
   "source": [
    "# 2.3 Navigating the Externalities of Oil Demand\n",
    "![picture](https://i.pinimg.com/736x/21/fe/d3/21fed3eb24d4707661f58d875cc4de8d.jpg)\n",
    "\n",
    "**1. Seasonality:**\n",
    "Ali knows that the cold winter months drive up the demand for oil as people need more heating. Recognizing this pattern, he adjusts his model to increase demand by 10% during December, January, and February, ensuring that his predictions reflect the real-world uptick in oil usage during these periods."
   ]
  },
  {
   "cell_type": "code",
   "execution_count": 0,
   "metadata": {
    "application/vnd.databricks.v1+cell": {
     "cellMetadata": {
      "byteLimit": 2048000,
      "rowLimit": 10000
     },
     "inputWidgets": {},
     "nuid": "5f70cf50-7d2e-4e69-b9d0-f6c5ae71617a",
     "showTitle": false,
     "title": ""
    },
    "id": "GcRCMAmZmTrf"
   },
   "outputs": [],
   "source": [
    "# Create the date range for the last 3 years (36 months)\n",
    "date_range = pd.date_range(end=pd.Timestamp.today().normalize(), periods=36, freq='MS')\n",
    "# Seasonality: Higher demand in winter months (December, January, February)\n",
    "seasonality = np.where(date_range.month.isin([12, 1, 2]), 1.1, 1.0)"
   ]
  },
  {
   "cell_type": "markdown",
   "metadata": {
    "application/vnd.databricks.v1+cell": {
     "cellMetadata": {},
     "inputWidgets": {},
     "nuid": "3357bf59-dbd9-470a-a793-6592caa19fa8",
     "showTitle": false,
     "title": ""
    },
    "id": "X66vyQyimXF2"
   },
   "source": [
    "**Economic Shocks:** Ali also understands that the economy is unpredictable. A sudden economic downturn or a spike in oil prices can cause fluctuations in demand. To mimic these real-world scenarios, Ali adds random economic shocks to his model, allowing for unexpected changes in demand that could arise from global or regional economic events."
   ]
  },
  {
   "cell_type": "code",
   "execution_count": 0,
   "metadata": {
    "application/vnd.databricks.v1+cell": {
     "cellMetadata": {
      "byteLimit": 2048000,
      "rowLimit": 10000
     },
     "inputWidgets": {},
     "nuid": "fa7065d4-2143-43bf-86f6-32b789a0fb7e",
     "showTitle": false,
     "title": ""
    },
    "id": "yZ1yfxP3meLN"
   },
   "outputs": [],
   "source": [
    "# Economic shocks: Random shocks to simulate economic events\n",
    "np.random.seed(42)\n",
    "economic_shocks = np.random.normal(loc=1.0, scale=0.02, size=len(date_range))  # Adds random economic fluctuations"
   ]
  },
  {
   "cell_type": "markdown",
   "metadata": {
    "application/vnd.databricks.v1+cell": {
     "cellMetadata": {},
     "inputWidgets": {},
     "nuid": "d945b998-5344-491d-a8c5-309faa936c2d",
     "showTitle": false,
     "title": ""
    },
    "id": "JWTBr72AmhW7"
   },
   "source": [
    "**Special Events:** Ali knows that certain months might experience higher-than-usual demand due to special events, holidays, or industrial surges. To capture this, he randomly selects a few months in his model to simulate a demand spike, ensuring that his forecast can handle these occasional but significant deviations from the norm."
   ]
  },
  {
   "cell_type": "code",
   "execution_count": 0,
   "metadata": {
    "application/vnd.databricks.v1+cell": {
     "cellMetadata": {
      "byteLimit": 2048000,
      "rowLimit": 10000
     },
     "inputWidgets": {},
     "nuid": "ac54f020-9209-43ba-a909-ce12a34f7e6f",
     "showTitle": false,
     "title": ""
    },
    "id": "yqvBihrOml7u"
   },
   "outputs": [],
   "source": [
    "# Special events or holidays: Randomly select a few months to have increased demand\n",
    "special_events = np.ones(len(date_range))\n",
    "event_indices = np.random.choice(len(date_range), size=3, replace=False)\n",
    "special_events[event_indices] = np.random.uniform(1.05, 1.15, size=3)  # Increase demand by 5% to 15% during special events"
   ]
  },
  {
   "cell_type": "markdown",
   "metadata": {
    "application/vnd.databricks.v1+cell": {
     "cellMetadata": {},
     "inputWidgets": {},
     "nuid": "f6fa2454-7fa3-4850-abb4-aa89f81ed402",
     "showTitle": false,
     "title": ""
    },
    "id": "OGP2xjzsmn_G"
   },
   "source": [
    "**Noise:** Finally, Ali appreciates the inherent unpredictability in any data. Real-world demand is never perfectly smooth, so Ali adds a layer of random noise to his model. This small but crucial detail makes his simulated data more reflective of the minor day-to-day variations in demand."
   ]
  },
  {
   "cell_type": "code",
   "execution_count": 0,
   "metadata": {
    "application/vnd.databricks.v1+cell": {
     "cellMetadata": {
      "byteLimit": 2048000,
      "rowLimit": 10000
     },
     "inputWidgets": {},
     "nuid": "0ddc21a9-8ed9-4ee5-922f-96120997e416",
     "showTitle": false,
     "title": ""
    },
    "id": "ugyGN6PKmtqg"
   },
   "outputs": [],
   "source": [
    "# Noise: Add some random noise to simulate real-world fluctuations\n",
    "noise = np.random.normal(loc=1.0, scale=0.01, size=len(date_range))  # Adds small random variations to the demand data"
   ]
  },
  {
   "cell_type": "markdown",
   "metadata": {
    "application/vnd.databricks.v1+cell": {
     "cellMetadata": {},
     "inputWidgets": {},
     "nuid": "0b122b2d-4c6c-40de-ba4f-e440425fc50f",
     "showTitle": false,
     "title": ""
    },
    "id": "eRhSuC1hjxrn"
   },
   "source": [
    "This visualization gives Ali a clear picture of how demand has fluctuated over the past three years, providing valuable insights for the forecasting process.\n",
    "\n",
    "# 3. The Power of ARIMA: Forecasting the Future\n",
    "With the historical data ready, Ali turns to the ARIMA model to forecast demand for the next three months. ARIMA stands for AutoRegressive Integrated Moving Average and is a powerful tool for time series forecasting.\n",
    "\n",
    "# 3.1. Model Fitting\n",
    "Ali begins by fitting the ARIMA model to his historical data. He chooses an ARIMA(1, 1, 1) model, which uses one lagged term, first differences to make the data stationary, and one moving average term:"
   ]
  },
  {
   "cell_type": "code",
   "execution_count": 0,
   "metadata": {
    "application/vnd.databricks.v1+cell": {
     "cellMetadata": {
      "byteLimit": 2048000,
      "rowLimit": 10000
     },
     "inputWidgets": {},
     "nuid": "7eefdfa6-074a-4050-ad49-20d18c20253e",
     "showTitle": false,
     "title": ""
    },
    "id": "EJejLeC9jw8c"
   },
   "outputs": [],
   "source": [
    "# Create an ARIMA model with specified parameters for p, d, and q\n",
    "model = ARIMA(df['Demand (in barrels)'], order=(1, 1, 1))\n",
    "\n",
    "# Fit the ARIMA model to the historical demand data\n",
    "model_fit = model.fit()"
   ]
  },
  {
   "cell_type": "markdown",
   "metadata": {
    "application/vnd.databricks.v1+cell": {
     "cellMetadata": {},
     "inputWidgets": {},
     "nuid": "d2444808-c959-4677-a451-6d12a96ac7ef",
     "showTitle": false,
     "title": ""
    },
    "id": "AuBoIjDSj8I9"
   },
   "source": [
    "\n",
    "\n",
    "*   AR(1): The model uses the previous month’s demand to predict the next month’s.\n",
    "*   I(1): The model takes the first difference to remove any trend in the data.\n",
    "*   MA(1): The model accounts for past forecasting errors in its predictions.\n",
    "\n",
    "\n",
    "# 3.2. Forecasting the Next Three Months\n",
    "With the model fitted, Ali forecasts demand for the next three months:\n",
    "\n"
   ]
  },
  {
   "cell_type": "code",
   "execution_count": 0,
   "metadata": {
    "application/vnd.databricks.v1+cell": {
     "cellMetadata": {
      "byteLimit": 2048000,
      "rowLimit": 10000
     },
     "inputWidgets": {},
     "nuid": "9763f775-5364-4e0a-8607-690bb48f345c",
     "showTitle": false,
     "title": ""
    },
    "id": "z9Pge54rkTzd"
   },
   "outputs": [],
   "source": [
    "# Generate forecasts for the next 3 time periods (months in this case)\n",
    "forecast = model_fit.forecast(steps=3)"
   ]
  },
  {
   "cell_type": "markdown",
   "metadata": {
    "application/vnd.databricks.v1+cell": {
     "cellMetadata": {},
     "inputWidgets": {},
     "nuid": "519656ea-05fe-4159-ab52-18a6def5e661",
     "showTitle": false,
     "title": ""
    },
    "id": "cmZRRxMRkTcs"
   },
   "source": [
    "# 3.3. Creating a Forecast DataFrame\n",
    "Ali organizes the forecasted demand into a new DataFrame:"
   ]
  },
  {
   "cell_type": "code",
   "execution_count": 0,
   "metadata": {
    "application/vnd.databricks.v1+cell": {
     "cellMetadata": {
      "byteLimit": 2048000,
      "rowLimit": 10000
     },
     "inputWidgets": {},
     "nuid": "c44f3743-3c8f-4ebd-8a5a-91713d6a7923",
     "showTitle": false,
     "title": ""
    },
    "id": "LSRw_cWVkabH"
   },
   "outputs": [],
   "source": [
    "# Create a date range for the forecasted periods\n",
    "forecast_dates = pd.date_range(start=df.index[-1] + pd.DateOffset(months=1), periods=3, freq='MS')\n",
    "\n",
    "# Create a DataFrame to store the forecasted demand values along with their corresponding dates\n",
    "forecast_df = pd.DataFrame({'Date': forecast_dates, 'Forecasted Demand (in barrels)': forecast})\n",
    "\n",
    "# Set the 'Date' column as the index of the DataFrame for easier time series handling\n",
    "forecast_df.set_index('Date', inplace=True)"
   ]
  },
  {
   "cell_type": "markdown",
   "metadata": {
    "application/vnd.databricks.v1+cell": {
     "cellMetadata": {},
     "inputWidgets": {},
     "nuid": "d2169783-12bf-48b0-9b89-0a05334732dc",
     "showTitle": false,
     "title": ""
    },
    "id": "JhR5_y6Ikove"
   },
   "source": [
    "\n",
    "# 4. Visualizing the Future: Combining Historical and Forecasted Data\n",
    "\n",
    "![picture](https://i.pinimg.com/736x/c5/49/6e/c5496eb17c1c232eabb4f5fafd73f04c.jpg)\n",
    "Ali knows that a good visualization can turn complex data into clear insights. He plots both the historical demand and the forecasted demand:"
   ]
  },
  {
   "cell_type": "code",
   "execution_count": 0,
   "metadata": {
    "application/vnd.databricks.v1+cell": {
     "cellMetadata": {
      "byteLimit": 2048000,
      "rowLimit": 10000
     },
     "inputWidgets": {},
     "nuid": "714e69b6-75ea-47ec-9ce4-4d333682871f",
     "showTitle": false,
     "title": ""
    },
    "colab": {
     "base_uri": "https://localhost:8080/",
     "height": 564
    },
    "id": "6iEl5mxGksyB",
    "outputId": "78e79e70-5254-4b97-8d05-4e979a08b76d"
   },
   "outputs": [],
   "source": [
    "# Create a new figure with a specified size for the plot\n",
    "plt.figure(figsize=(12, 6))\n",
    "\n",
    "# Plot the historical demand data with date on the x-axis and demand on the y-axis\n",
    "plt.plot(df.index, df['Demand (in barrels)'], marker='o', label='Historical Demand')\n",
    "\n",
    "# Plot the forecasted demand data with the same x-axis and y-axis, using a different color for distinction\n",
    "plt.plot(forecast_df.index, forecast_df['Forecasted Demand (in barrels)'], marker='o', color='red', label='Forecasted Demand')\n",
    "\n",
    "# Set the title of the plot\n",
    "plt.title('Oil Demand Forecast')\n",
    "\n",
    "# Label the x-axis as 'Date'\n",
    "plt.xlabel('Month')\n",
    "\n",
    "# Label the y-axis as 'Demand (in barrels)'\n",
    "plt.ylabel('Demand (in barrels)')\n",
    "\n",
    "# Add a legend to distinguish between historical and forecasted data\n",
    "plt.legend()\n",
    "\n",
    "# Add a grid to the plot for better readability\n",
    "plt.grid(True)\n",
    "\n",
    "# Display the plot\n",
    "plt.show()"
   ]
  },
  {
   "cell_type": "markdown",
   "metadata": {
    "application/vnd.databricks.v1+cell": {
     "cellMetadata": {},
     "inputWidgets": {},
     "nuid": "f471d387-398c-49d6-842a-854e39f911d2",
     "showTitle": false,
     "title": ""
    },
    "id": "-K8uM-yJkvVu"
   },
   "source": [
    "In this graph, the historical data provides context, while the forecasted data helps ADNOC plan for the future.\n",
    "\n",
    "# Conclusion:  Ali's Mission Accomplished\n",
    "\n",
    "Ali has successfully used the ARIMA model to forecast future oil demand at ADNOC. By leveraging historical data and advanced modeling techniques, he ensures that ADNOC stays ahead of the curve, optimizing its operations and planning for the future. Through this journey, Ali has demonstrated the power of data-driven decision-making in the oil industry."
   ]
  },
  {
   "cell_type": "code",
   "execution_count": 0,
   "metadata": {
    "application/vnd.databricks.v1+cell": {
     "cellMetadata": {},
     "inputWidgets": {},
     "nuid": "9cc6a47c-3b30-4329-a6e1-4b56ec9754c5",
     "showTitle": false,
     "title": ""
    }
   },
   "outputs": [],
   "source": []
  }
 ],
 "metadata": {
  "application/vnd.databricks.v1+notebook": {
   "dashboards": [],
   "environmentMetadata": {
    "base_environment": "",
    "client": "1"
   },
   "language": "python",
   "notebookMetadata": {
    "pythonIndentUnit": 4
   },
   "notebookName": "Demand Forecasting",
   "widgets": {}
  },
  "colab": {
   "provenance": []
  },
  "kernelspec": {
   "display_name": "Python 3",
   "name": "python3"
  },
  "language_info": {
   "name": "python"
  }
 },
 "nbformat": 4,
 "nbformat_minor": 0
}
